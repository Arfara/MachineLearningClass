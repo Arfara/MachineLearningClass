{
  "nbformat": 4,
  "nbformat_minor": 0,
  "metadata": {
    "colab": {
      "provenance": [],
      "authorship_tag": "ABX9TyN5nlssOrc4J0YFTdXN4Shh",
      "include_colab_link": true
    },
    "kernelspec": {
      "name": "python3",
      "display_name": "Python 3"
    },
    "language_info": {
      "name": "python"
    }
  },
  "cells": [
    {
      "cell_type": "markdown",
      "metadata": {
        "id": "view-in-github",
        "colab_type": "text"
      },
      "source": [
        "<a href=\"https://colab.research.google.com/github/Arfara/MachineLearningClass/blob/main/3rdWeek/DecisionTreeIris.ipynb\" target=\"_parent\"><img src=\"https://colab.research.google.com/assets/colab-badge.svg\" alt=\"Open In Colab\"/></a>"
      ]
    },
    {
      "cell_type": "code",
      "execution_count": null,
      "metadata": {
        "colab": {
          "base_uri": "https://localhost:8080/"
        },
        "id": "bRvae-w3Dwup",
        "outputId": "053805dd-ac47-4d14-c732-ec71d9e32c8c"
      },
      "outputs": [
        {
          "output_type": "stream",
          "name": "stdout",
          "text": [
            "Contoh data Iris:\n",
            "Data 1: [5.1 3.5 1.4 0.2] (Target: 0)\n",
            "Data 2: [4.9 3.  1.4 0.2] (Target: 0)\n",
            "Data 3: [4.7 3.2 1.3 0.2] (Target: 0)\n",
            "Data 4: [4.6 3.1 1.5 0.2] (Target: 0)\n",
            "Data 5: [5.  3.6 1.4 0.2] (Target: 0)\n"
          ]
        }
      ],
      "source": [
        "#Nama : Arfara Yema Samgusdian\n",
        "#NIM  : 1103202004\n",
        "#Kelas: TK-44-G4\n",
        "\n",
        "from sklearn.datasets import load_iris\n",
        "\n",
        "# Memuat dataset Iris\n",
        "iris = load_iris()\n",
        "\n",
        "# Menampilkan data dalam bentuk dictionary\n",
        "iris_data = iris.data\n",
        "iris_target = iris.target\n",
        "\n",
        "# Menampilkan outputnya\n",
        "print(\"Contoh data Iris:\")\n",
        "for i in range(5):  # Menampilkan 5 baris pertama data\n",
        "    print(f\"Data {i+1}: {iris_data[i]} (Target: {iris_target[i]})\")\n"
      ]
    },
    {
      "cell_type": "code",
      "source": [
        "import pandas as pd\n",
        "from sklearn.datasets import load_iris\n",
        "\n",
        "# Memuat dataset Iris\n",
        "iris = load_iris()\n",
        "\n",
        "# Membuat DataFrame dari data Iris\n",
        "iris_df = pd.DataFrame(data=iris.data, columns=iris.feature_names)\n",
        "\n",
        "# Menambahkan kolom target ke dalam DataFrame\n",
        "iris_df['target'] = iris.target\n",
        "\n",
        "# Menampilkan beberapa baris pertama dari DataFrame\n",
        "print(iris_df.head())\n"
      ],
      "metadata": {
        "colab": {
          "base_uri": "https://localhost:8080/"
        },
        "id": "Dbpm2KtkE-6M",
        "outputId": "7be8568f-340f-4966-b4d2-94b109afc1d4"
      },
      "execution_count": null,
      "outputs": [
        {
          "output_type": "stream",
          "name": "stdout",
          "text": [
            "   sepal length (cm)  sepal width (cm)  petal length (cm)  petal width (cm)  \\\n",
            "0                5.1               3.5                1.4               0.2   \n",
            "1                4.9               3.0                1.4               0.2   \n",
            "2                4.7               3.2                1.3               0.2   \n",
            "3                4.6               3.1                1.5               0.2   \n",
            "4                5.0               3.6                1.4               0.2   \n",
            "\n",
            "   target  \n",
            "0       0  \n",
            "1       0  \n",
            "2       0  \n",
            "3       0  \n",
            "4       0  \n"
          ]
        }
      ]
    },
    {
      "cell_type": "code",
      "source": [
        "# Menampilkan nilai unique pada kolom target\n",
        "unique_targets = iris_df['target'].unique()\n",
        "print(\"Nilai unique pada kolom target:\")\n",
        "for target in unique_targets:\n",
        "    print(target)"
      ],
      "metadata": {
        "colab": {
          "base_uri": "https://localhost:8080/"
        },
        "id": "roFxmI35F1iq",
        "outputId": "c5a49430-aeb1-475a-9793-2610e50a6218"
      },
      "execution_count": null,
      "outputs": [
        {
          "output_type": "stream",
          "name": "stdout",
          "text": [
            "Nilai unique pada kolom target:\n",
            "0\n",
            "1\n",
            "2\n"
          ]
        }
      ]
    },
    {
      "cell_type": "code",
      "source": [
        "# Menampilkan nilai unique pada kolom target dan nama kolom\n",
        "unique_targets = iris_df['target'].unique()\n",
        "column_name = 'target'\n",
        "print(f\"Nilai unique pada kolom {column_name}:\")\n",
        "for target in unique_targets:\n",
        "    print(target)\n"
      ],
      "metadata": {
        "colab": {
          "base_uri": "https://localhost:8080/"
        },
        "id": "l4lPSb4cGBjK",
        "outputId": "a09f6f6d-bc4d-45af-be49-a36fb8eae1d8"
      },
      "execution_count": null,
      "outputs": [
        {
          "output_type": "stream",
          "name": "stdout",
          "text": [
            "Nilai unique pada kolom target:\n",
            "0\n",
            "1\n",
            "2\n"
          ]
        }
      ]
    },
    {
      "cell_type": "code",
      "source": [
        "# Nama kolom atribut\n",
        "atribut_columns = ['sepal length (cm)', 'sepal width (cm)', 'petal length (cm)', 'petal width (cm)']\n",
        "\n",
        "# Nama kolom target\n",
        "target_column = 'target'\n",
        "\n",
        "# Mendefinisikan DataFrame atribut dan target\n",
        "atribut_df = iris_df[atribut_columns]\n",
        "target_df = iris_df[target_column]\n",
        "\n",
        "# Menampilkan beberapa baris pertama dari DataFrame atribut dan target\n",
        "print(\"DataFrame atribut:\")\n",
        "print(atribut_df.head())\n",
        "\n",
        "print(\"\\nDataFrame target:\")\n",
        "print(target_df.head())\n"
      ],
      "metadata": {
        "colab": {
          "base_uri": "https://localhost:8080/"
        },
        "id": "JmeXqRcHGrMg",
        "outputId": "57cf9b98-79d0-4f21-ae19-2e14c08b93bd"
      },
      "execution_count": null,
      "outputs": [
        {
          "output_type": "stream",
          "name": "stdout",
          "text": [
            "DataFrame atribut:\n",
            "   sepal length (cm)  sepal width (cm)  petal length (cm)  petal width (cm)\n",
            "0                5.1               3.5                1.4               0.2\n",
            "1                4.9               3.0                1.4               0.2\n",
            "2                4.7               3.2                1.3               0.2\n",
            "3                4.6               3.1                1.5               0.2\n",
            "4                5.0               3.6                1.4               0.2\n",
            "\n",
            "DataFrame target:\n",
            "0    0\n",
            "1    0\n",
            "2    0\n",
            "3    0\n",
            "4    0\n",
            "Name: target, dtype: int64\n"
          ]
        }
      ]
    },
    {
      "cell_type": "code",
      "source": [
        "# Mengimpor library yang diperlukan\n",
        "from sklearn.tree import DecisionTreeClassifier\n",
        "from sklearn.model_selection import train_test_split\n",
        "from sklearn.metrics import accuracy_score\n",
        "\n",
        "# Memisahkan kolom atribut dan kolom target\n",
        "atribut_columns = ['sepal length (cm)', 'sepal width (cm)', 'petal length (cm)', 'petal width (cm)']\n",
        "target_column = 'target'\n",
        "\n",
        "X = iris_df[atribut_columns]\n",
        "y = iris_df[target_column]\n",
        "\n",
        "# Membagi data menjadi data latih dan data uji\n",
        "X_train, X_test, y_train, y_test = train_test_split(X, y, test_size=0.2, random_state=42)\n",
        "\n",
        "# Membuat model Decision Tree\n",
        "model = DecisionTreeClassifier(random_state=42)\n",
        "\n",
        "# Melatih model menggunakan data latih\n",
        "model.fit(X_train, y_train)\n",
        "\n",
        "# Memprediksi target menggunakan data uji\n",
        "y_pred = model.predict(X_test)\n",
        "\n",
        "# Mengukur akurasi model\n",
        "accuracy = accuracy_score(y_test, y_pred)\n",
        "print(f\"Akurasi model Decision Tree: {accuracy * 100:.2f}%\")\n"
      ],
      "metadata": {
        "colab": {
          "base_uri": "https://localhost:8080/"
        },
        "id": "vdIUPwHZHd44",
        "outputId": "bee33d29-e61c-47f7-9361-d9777513a8be"
      },
      "execution_count": null,
      "outputs": [
        {
          "output_type": "stream",
          "name": "stdout",
          "text": [
            "Akurasi model Decision Tree: 100.00%\n"
          ]
        }
      ]
    },
    {
      "cell_type": "code",
      "source": [
        "iris_df.info()"
      ],
      "metadata": {
        "colab": {
          "base_uri": "https://localhost:8080/"
        },
        "id": "YEHfIUoBFPKn",
        "outputId": "84316d2e-7706-41ef-8f97-b2fc47643d9b"
      },
      "execution_count": null,
      "outputs": [
        {
          "output_type": "stream",
          "name": "stdout",
          "text": [
            "<class 'pandas.core.frame.DataFrame'>\n",
            "RangeIndex: 150 entries, 0 to 149\n",
            "Data columns (total 5 columns):\n",
            " #   Column             Non-Null Count  Dtype  \n",
            "---  ------             --------------  -----  \n",
            " 0   sepal length (cm)  150 non-null    float64\n",
            " 1   sepal width (cm)   150 non-null    float64\n",
            " 2   petal length (cm)  150 non-null    float64\n",
            " 3   petal width (cm)   150 non-null    float64\n",
            " 4   target             150 non-null    int64  \n",
            "dtypes: float64(4), int64(1)\n",
            "memory usage: 6.0 KB\n"
          ]
        }
      ]
    },
    {
      "cell_type": "code",
      "source": [
        "!pip install graphviz\n",
        "from sklearn.tree import export_graphviz\n",
        "import graphviz\n",
        "\n",
        "# Membuat objek Decision Tree\n",
        "tree_dot = export_graphviz(model, out_file=None,\n",
        "                           feature_names=atribut_columns,\n",
        "                           class_names=[str(i) for i in range(3)],  # Nama kelas target\n",
        "                           filled=True, rounded=True, special_characters=True)\n",
        "\n",
        "# Menggunakan graphviz untuk membuat grafik dari objek Decision Tree\n",
        "graph = graphviz.Source(tree_dot)\n",
        "\n",
        "# Menyimpan grafik dalam format PDF\n",
        "graph.render(\"decision_tree_iris\")\n"
      ],
      "metadata": {
        "colab": {
          "base_uri": "https://localhost:8080/",
          "height": 54
        },
        "id": "0sQb4kaaJfz5",
        "outputId": "02f40683-57e4-4dd5-842f-1d8add892e89"
      },
      "execution_count": null,
      "outputs": [
        {
          "output_type": "stream",
          "name": "stdout",
          "text": [
            "Requirement already satisfied: graphviz in /usr/local/lib/python3.10/dist-packages (0.20.1)\n"
          ]
        },
        {
          "output_type": "execute_result",
          "data": {
            "text/plain": [
              "'decision_tree_iris.pdf'"
            ],
            "application/vnd.google.colaboratory.intrinsic+json": {
              "type": "string"
            }
          },
          "metadata": {},
          "execution_count": 11
        }
      ]
    },
    {
      "cell_type": "code",
      "source": [
        "import pandas as pd\n",
        "from sklearn.datasets import load_iris\n",
        "from sklearn.model_selection import train_test_split\n",
        "\n",
        "# Memuat dataset Iris\n",
        "iris = load_iris()\n",
        "iris_df = pd.DataFrame(data=iris.data, columns=iris.feature_names)\n",
        "iris_df['target'] = iris.target\n",
        "\n",
        "# Pembagian data dengan random_state\n",
        "X_train_with_rs, X_test_with_rs, y_train_with_rs, y_test_with_rs = train_test_split(\n",
        "    iris_df[iris.feature_names], iris_df['target'], test_size=0.2, random_state=42)\n",
        "\n",
        "# Pembagian data tanpa random_state\n",
        "X_train_no_rs, X_test_no_rs, y_train_no_rs, y_test_no_rs = train_test_split(\n",
        "    iris_df[iris.feature_names], iris_df['target'], test_size=0.2)\n",
        "\n",
        "# Menampilkan tabelnya menggunakan kolom yang diminta\n",
        "print(\"Pembagian data dengan random_state:\")\n",
        "with_rs_df = pd.DataFrame({'sepal length (cm)': X_test_with_rs['sepal length (cm)'],\n",
        "                            'sepal width (cm)': X_test_with_rs['sepal width (cm)'],\n",
        "                            'petal length (cm)': X_test_with_rs['petal length (cm)'],\n",
        "                            'petal width (cm)': X_test_with_rs['petal width (cm)'],\n",
        "                            'target': y_test_with_rs})\n",
        "print(with_rs_df.head())\n",
        "\n",
        "print(\"\\nPembagian data tanpa random_state:\")\n",
        "no_rs_df = pd.DataFrame({'sepal length (cm)': X_test_no_rs['sepal length (cm)'],\n",
        "                        'sepal width (cm)': X_test_no_rs['sepal width (cm)'],\n",
        "                        'petal length (cm)': X_test_no_rs['petal length (cm)'],\n",
        "                        'petal width (cm)': X_test_no_rs['petal width (cm)'],\n",
        "                        'target': y_test_no_rs})\n",
        "print(no_rs_df.head())\n"
      ],
      "metadata": {
        "id": "IY2IRGwQKOS5",
        "outputId": "48ad3e9c-54ec-4a0c-ecb4-fda6e1b9ee85",
        "colab": {
          "base_uri": "https://localhost:8080/"
        }
      },
      "execution_count": null,
      "outputs": [
        {
          "output_type": "stream",
          "name": "stdout",
          "text": [
            "Pembagian data dengan random_state:\n",
            "     sepal length (cm)  sepal width (cm)  petal length (cm)  petal width (cm)  \\\n",
            "73                 6.1               2.8                4.7               1.2   \n",
            "18                 5.7               3.8                1.7               0.3   \n",
            "118                7.7               2.6                6.9               2.3   \n",
            "78                 6.0               2.9                4.5               1.5   \n",
            "76                 6.8               2.8                4.8               1.4   \n",
            "\n",
            "     target  \n",
            "73        1  \n",
            "18        0  \n",
            "118       2  \n",
            "78        1  \n",
            "76        1  \n",
            "\n",
            "Pembagian data tanpa random_state:\n",
            "     sepal length (cm)  sepal width (cm)  petal length (cm)  petal width (cm)  \\\n",
            "78                 6.0               2.9                4.5               1.5   \n",
            "74                 6.4               2.9                4.3               1.3   \n",
            "52                 6.9               3.1                4.9               1.5   \n",
            "137                6.4               3.1                5.5               1.8   \n",
            "114                5.8               2.8                5.1               2.4   \n",
            "\n",
            "     target  \n",
            "78        1  \n",
            "74        1  \n",
            "52        1  \n",
            "137       2  \n",
            "114       2  \n"
          ]
        }
      ]
    }
  ]
}