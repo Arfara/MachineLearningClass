{
  "nbformat": 4,
  "nbformat_minor": 0,
  "metadata": {
    "colab": {
      "provenance": [],
      "authorship_tag": "ABX9TyOZ0QNqLorROMtN4HiuACOt",
      "include_colab_link": true
    },
    "kernelspec": {
      "name": "python3",
      "display_name": "Python 3"
    },
    "language_info": {
      "name": "python"
    }
  },
  "cells": [
    {
      "cell_type": "markdown",
      "metadata": {
        "id": "view-in-github",
        "colab_type": "text"
      },
      "source": [
        "<a href=\"https://colab.research.google.com/github/Arfara/MachineLearningClass/blob/main/5thWeek/DimensityReductionInIrisDataset.ipynb\" target=\"_parent\"><img src=\"https://colab.research.google.com/assets/colab-badge.svg\" alt=\"Open In Colab\"/></a>"
      ]
    },
    {
      "cell_type": "code",
      "execution_count": null,
      "metadata": {
        "id": "QJF-VZCgJC_P"
      },
      "outputs": [],
      "source": [
        "#Nama : Arfara Yema Samgusdian\n",
        "#NIM  : 1103202004\n",
        "#Kelas: TK-44-G4"
      ]
    },
    {
      "cell_type": "code",
      "source": [
        "from sklearn import datasets\n",
        "from sklearn.model_selection import train_test_split\n",
        "from sklearn.decomposition import PCA\n",
        "from sklearn.tree import DecisionTreeClassifier\n",
        "\n",
        "import matplotlib.pyplot as plt"
      ],
      "metadata": {
        "id": "UFUvWU3vJVgS"
      },
      "execution_count": 1,
      "outputs": []
    },
    {
      "cell_type": "code",
      "source": [
        "#Muat dataset Iris\n",
        "iris = datasets.load_iris()\n",
        "atribut = iris.data\n",
        "label = iris.target"
      ],
      "metadata": {
        "id": "Xvd6467MJcdT"
      },
      "execution_count": 2,
      "outputs": []
    },
    {
      "cell_type": "code",
      "source": [
        "#Bagi dataset menjadi train set dan test set\n",
        "\n",
        "X_train, X_test, y_train, y_test = train_test_split(atribut, label, test_size=0.2, random_state=42)"
      ],
      "metadata": {
        "id": "dKqR75o6JhyB"
      },
      "execution_count": 3,
      "outputs": []
    },
    {
      "cell_type": "code",
      "source": [
        "#Lakukan dimensionality reduction menggunakan PCA (dengan 2 komponen)\n",
        "\n",
        "pca_2_components = PCA(n_components=2)\n",
        "X_train_pca_2 = pca_2_components.fit_transform(X_train)\n",
        "X_test_pca_2 = pca_2_components.transform(X_test)"
      ],
      "metadata": {
        "id": "ODLcfn_sJn03"
      },
      "execution_count": 4,
      "outputs": []
    },
    {
      "cell_type": "code",
      "source": [
        "#Latih model Decision Tree dengan data yang telah direduksi (2 komponen)\n",
        "\n",
        "decision_tree_2_components = DecisionTreeClassifier(random_state=42)\n",
        "model_dengan_PCA_2_components = decision_tree_2_components.fit(X_train_pca_2, y_train)"
      ],
      "metadata": {
        "id": "JZeBJuTPJrqB"
      },
      "execution_count": 5,
      "outputs": []
    },
    {
      "cell_type": "code",
      "source": [
        "#Hitung dan cetak akurasi model pada test set dengan 2 komponen PCA\n",
        "\n",
        "accuracy_2_components = model_dengan_PCA_2_components.score(X_test_pca_2, y_test)\n",
        "print(\"Akurasi model dengan PCA (2 komponen):\", accuracy_2_components)"
      ],
      "metadata": {
        "colab": {
          "base_uri": "https://localhost:8080/"
        },
        "id": "fzY8eGceJud6",
        "outputId": "4312da5e-1b79-40be-a66a-59b5c39f659d"
      },
      "execution_count": 6,
      "outputs": [
        {
          "output_type": "stream",
          "name": "stdout",
          "text": [
            "Akurasi model dengan PCA (2 komponen): 1.0\n"
          ]
        }
      ]
    },
    {
      "cell_type": "code",
      "source": [
        "#Lakukan dimensionality reduction menggunakan PCA (dengan 4 komponen)\n",
        "\n",
        "pca_4_components = PCA(n_components=4)\n",
        "X_train_pca_4 = pca_4_components.fit_transform(X_train)\n",
        "X_test_pca_4 = pca_4_components.transform(X_test)"
      ],
      "metadata": {
        "id": "aP6WpmKBJxcu"
      },
      "execution_count": 9,
      "outputs": []
    },
    {
      "cell_type": "code",
      "source": [
        "# Sel 8: Latih model Decision Tree dengan data yang telah direduksi (4 komponen)\n",
        "\n",
        "decision_tree_4_components = DecisionTreeClassifier(random_state=42)\n",
        "model_dengan_PCA_4_components = decision_tree_4_components.fit(X_train_pca_4, y_train)"
      ],
      "metadata": {
        "id": "WEWgZPC_J0Fr"
      },
      "execution_count": 8,
      "outputs": []
    },
    {
      "cell_type": "code",
      "source": [
        "#Hitung dan cetak akurasi model pada test set dengan 4 komponen PCA\n",
        "\n",
        "accuracy_4_components = model_dengan_PCA_4_components.score(X_test_pca_4, y_test)\n",
        "print(\"Akurasi model dengan PCA (4 komponen):\", accuracy_4_components)\n"
      ],
      "metadata": {
        "colab": {
          "base_uri": "https://localhost:8080/"
        },
        "id": "0hIOiZcFJ_nS",
        "outputId": "9c00956c-1e87-43dd-b3ff-8a052c752933"
      },
      "execution_count": 10,
      "outputs": [
        {
          "output_type": "stream",
          "name": "stdout",
          "text": [
            "Akurasi model dengan PCA (4 komponen): 1.0\n"
          ]
        }
      ]
    },
    {
      "cell_type": "code",
      "source": [
        "#Variance Ratio (2 komponen)\n",
        "\n",
        "explained_variance_ratio_2 = pca_2_components.explained_variance_ratio_\n",
        "print(\"Explained Variance Ratio (2 komponen):\", explained_variance_ratio_2)"
      ],
      "metadata": {
        "colab": {
          "base_uri": "https://localhost:8080/"
        },
        "id": "6_9uGarNKKu-",
        "outputId": "f05d9647-eb7f-4daf-f3b1-381ffd5d14ea"
      },
      "execution_count": 11,
      "outputs": [
        {
          "output_type": "stream",
          "name": "stdout",
          "text": [
            "Explained Variance Ratio (2 komponen): [0.91959926 0.05714377]\n"
          ]
        }
      ]
    },
    {
      "cell_type": "code",
      "source": [
        "#Variance Ratio (4 komponen)\n",
        "\n",
        "explained_variance_ratio_4 = pca_4_components.explained_variance_ratio_\n",
        "print(\"Explained Variance Ratio (4 komponen):\", explained_variance_ratio_4)\n",
        ""
      ],
      "metadata": {
        "colab": {
          "base_uri": "https://localhost:8080/"
        },
        "id": "59xDr0AXKOHp",
        "outputId": "3055ada8-763d-4e72-a3ee-c31ebf548000"
      },
      "execution_count": 12,
      "outputs": [
        {
          "output_type": "stream",
          "name": "stdout",
          "text": [
            "Explained Variance Ratio (4 komponen): [0.91959926 0.05714377 0.01838378 0.00487319]\n"
          ]
        }
      ]
    }
  ]
}