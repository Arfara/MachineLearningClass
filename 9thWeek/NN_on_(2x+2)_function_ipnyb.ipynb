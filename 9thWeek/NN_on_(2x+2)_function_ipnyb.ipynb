{
  "nbformat": 4,
  "nbformat_minor": 0,
  "metadata": {
    "colab": {
      "provenance": [],
      "authorship_tag": "ABX9TyOly1WhNm6h0ulkqQYPhL6W",
      "include_colab_link": true
    },
    "kernelspec": {
      "name": "python3",
      "display_name": "Python 3"
    },
    "language_info": {
      "name": "python"
    }
  },
  "cells": [
    {
      "cell_type": "markdown",
      "metadata": {
        "id": "view-in-github",
        "colab_type": "text"
      },
      "source": [
        "<a href=\"https://colab.research.google.com/github/Arfara/MachineLearningClass/blob/main/9thWeek/NN_on_(2x%2B2)_function_ipnyb.ipynb\" target=\"_parent\"><img src=\"https://colab.research.google.com/assets/colab-badge.svg\" alt=\"Open In Colab\"/></a>"
      ]
    },
    {
      "cell_type": "code",
      "execution_count": null,
      "metadata": {
        "id": "mLnle868-Qx8"
      },
      "outputs": [],
      "source": [
        "#Nama   : Arfara Yema Samgusdian\n",
        "#NIM    : 1103202004\n",
        "#Kelas  : TK-44-G4"
      ]
    },
    {
      "cell_type": "code",
      "source": [
        "import numpy as np\n",
        "\n",
        "xs = np.array([1.0, 2.0, 3.0, 4.0, 5.0, 6.0], dtype=float)\n",
        "ys = np.array([4.0, 6.0, 8.0, 10.0, 12.0, 14.0], dtype=float)"
      ],
      "metadata": {
        "id": "k2syv9UeDjST"
      },
      "execution_count": 2,
      "outputs": []
    },
    {
      "cell_type": "code",
      "source": [
        "import tensorflow as tf\n",
        "from tensorflow import keras\n",
        "\n",
        "model_1_layer = tf.keras.Sequential([keras.layers.Dense(units=1, input_shape=[1])])"
      ],
      "metadata": {
        "id": "4ZIqFc1sDm8h"
      },
      "execution_count": 3,
      "outputs": []
    },
    {
      "cell_type": "code",
      "source": [
        "model_1_layer.compile(optimizer='sgd', loss='mean_squared_error')"
      ],
      "metadata": {
        "id": "ZuLm5DMPDqlB"
      },
      "execution_count": 4,
      "outputs": []
    },
    {
      "cell_type": "code",
      "source": [
        "model_1_layer.fit(xs, ys, epochs=50)"
      ],
      "metadata": {
        "colab": {
          "base_uri": "https://localhost:8080/"
        },
        "id": "-973Gf6qDr0A",
        "outputId": "c93e9718-d32c-4ad6-cd25-5402e10da4ff"
      },
      "execution_count": 5,
      "outputs": [
        {
          "output_type": "stream",
          "name": "stdout",
          "text": [
            "Epoch 1/50\n",
            "1/1 [==============================] - 2s 2s/step - loss: 89.1636\n",
            "Epoch 2/50\n",
            "1/1 [==============================] - 0s 40ms/step - loss: 41.4861\n",
            "Epoch 3/50\n",
            "1/1 [==============================] - 0s 25ms/step - loss: 19.4180\n",
            "Epoch 4/50\n",
            "1/1 [==============================] - 0s 24ms/step - loss: 9.2026\n",
            "Epoch 5/50\n",
            "1/1 [==============================] - 0s 13ms/step - loss: 4.4730\n",
            "Epoch 6/50\n",
            "1/1 [==============================] - 0s 11ms/step - loss: 2.2825\n",
            "Epoch 7/50\n",
            "1/1 [==============================] - 0s 13ms/step - loss: 1.2671\n",
            "Epoch 8/50\n",
            "1/1 [==============================] - 0s 11ms/step - loss: 0.7956\n",
            "Epoch 9/50\n",
            "1/1 [==============================] - 0s 11ms/step - loss: 0.5759\n",
            "Epoch 10/50\n",
            "1/1 [==============================] - 0s 9ms/step - loss: 0.4727\n",
            "Epoch 11/50\n",
            "1/1 [==============================] - 0s 11ms/step - loss: 0.4234\n",
            "Epoch 12/50\n",
            "1/1 [==============================] - 0s 8ms/step - loss: 0.3991\n",
            "Epoch 13/50\n",
            "1/1 [==============================] - 0s 10ms/step - loss: 0.3864\n",
            "Epoch 14/50\n",
            "1/1 [==============================] - 0s 8ms/step - loss: 0.3790\n",
            "Epoch 15/50\n",
            "1/1 [==============================] - 0s 8ms/step - loss: 0.3741\n",
            "Epoch 16/50\n",
            "1/1 [==============================] - 0s 9ms/step - loss: 0.3705\n",
            "Epoch 17/50\n",
            "1/1 [==============================] - 0s 9ms/step - loss: 0.3673\n",
            "Epoch 18/50\n",
            "1/1 [==============================] - 0s 9ms/step - loss: 0.3644\n",
            "Epoch 19/50\n",
            "1/1 [==============================] - 0s 10ms/step - loss: 0.3617\n",
            "Epoch 20/50\n",
            "1/1 [==============================] - 0s 10ms/step - loss: 0.3590\n",
            "Epoch 21/50\n",
            "1/1 [==============================] - 0s 10ms/step - loss: 0.3563\n",
            "Epoch 22/50\n",
            "1/1 [==============================] - 0s 10ms/step - loss: 0.3537\n",
            "Epoch 23/50\n",
            "1/1 [==============================] - 0s 10ms/step - loss: 0.3512\n",
            "Epoch 24/50\n",
            "1/1 [==============================] - 0s 9ms/step - loss: 0.3486\n",
            "Epoch 25/50\n",
            "1/1 [==============================] - 0s 10ms/step - loss: 0.3461\n",
            "Epoch 26/50\n",
            "1/1 [==============================] - 0s 10ms/step - loss: 0.3435\n",
            "Epoch 27/50\n",
            "1/1 [==============================] - 0s 9ms/step - loss: 0.3410\n",
            "Epoch 28/50\n",
            "1/1 [==============================] - 0s 9ms/step - loss: 0.3386\n",
            "Epoch 29/50\n",
            "1/1 [==============================] - 0s 12ms/step - loss: 0.3361\n",
            "Epoch 30/50\n",
            "1/1 [==============================] - 0s 10ms/step - loss: 0.3336\n",
            "Epoch 31/50\n",
            "1/1 [==============================] - 0s 14ms/step - loss: 0.3312\n",
            "Epoch 32/50\n",
            "1/1 [==============================] - 0s 10ms/step - loss: 0.3288\n",
            "Epoch 33/50\n",
            "1/1 [==============================] - 0s 11ms/step - loss: 0.3264\n",
            "Epoch 34/50\n",
            "1/1 [==============================] - 0s 8ms/step - loss: 0.3240\n",
            "Epoch 35/50\n",
            "1/1 [==============================] - 0s 10ms/step - loss: 0.3217\n",
            "Epoch 36/50\n",
            "1/1 [==============================] - 0s 7ms/step - loss: 0.3193\n",
            "Epoch 37/50\n",
            "1/1 [==============================] - 0s 13ms/step - loss: 0.3170\n",
            "Epoch 38/50\n",
            "1/1 [==============================] - 0s 10ms/step - loss: 0.3147\n",
            "Epoch 39/50\n",
            "1/1 [==============================] - 0s 14ms/step - loss: 0.3124\n",
            "Epoch 40/50\n",
            "1/1 [==============================] - 0s 13ms/step - loss: 0.3101\n",
            "Epoch 41/50\n",
            "1/1 [==============================] - 0s 12ms/step - loss: 0.3079\n",
            "Epoch 42/50\n",
            "1/1 [==============================] - 0s 11ms/step - loss: 0.3056\n",
            "Epoch 43/50\n",
            "1/1 [==============================] - 0s 10ms/step - loss: 0.3034\n",
            "Epoch 44/50\n",
            "1/1 [==============================] - 0s 9ms/step - loss: 0.3012\n",
            "Epoch 45/50\n",
            "1/1 [==============================] - 0s 9ms/step - loss: 0.2990\n",
            "Epoch 46/50\n",
            "1/1 [==============================] - 0s 13ms/step - loss: 0.2968\n",
            "Epoch 47/50\n",
            "1/1 [==============================] - 0s 9ms/step - loss: 0.2946\n",
            "Epoch 48/50\n",
            "1/1 [==============================] - 0s 7ms/step - loss: 0.2925\n",
            "Epoch 49/50\n",
            "1/1 [==============================] - 0s 9ms/step - loss: 0.2904\n",
            "Epoch 50/50\n",
            "1/1 [==============================] - 0s 9ms/step - loss: 0.2882\n"
          ]
        },
        {
          "output_type": "execute_result",
          "data": {
            "text/plain": [
              "<keras.src.callbacks.History at 0x794c1555ccd0>"
            ]
          },
          "metadata": {},
          "execution_count": 5
        }
      ]
    },
    {
      "cell_type": "code",
      "source": [
        "print(model_1_layer.predict([10.0]))"
      ],
      "metadata": {
        "colab": {
          "base_uri": "https://localhost:8080/"
        },
        "id": "DFKP24EKDwUy",
        "outputId": "1d1dd40f-767a-4390-c216-036a591cab33"
      },
      "execution_count": 6,
      "outputs": [
        {
          "output_type": "stream",
          "name": "stdout",
          "text": [
            "1/1 [==============================] - 0s 91ms/step\n",
            "[[23.628914]]\n"
          ]
        }
      ]
    },
    {
      "cell_type": "code",
      "source": [
        "model_3_layers = tf.keras.Sequential([\n",
        "    keras.layers.Dense(units=1, input_shape=[1]),\n",
        "    keras.layers.Dense(units=8),\n",
        "    keras.layers.Dense(units=1)\n",
        "])"
      ],
      "metadata": {
        "id": "ZMuGDAA5Dy-a"
      },
      "execution_count": 7,
      "outputs": []
    },
    {
      "cell_type": "code",
      "source": [
        "model_3_layers.compile(optimizer='sgd', loss='mean_squared_error')\n",
        "model_3_layers.fit(xs, ys, epochs=50)"
      ],
      "metadata": {
        "colab": {
          "base_uri": "https://localhost:8080/"
        },
        "id": "q3Ctt2ayD1-r",
        "outputId": "ea0de677-6bf2-400a-dec4-28aa5f227ca8"
      },
      "execution_count": 8,
      "outputs": [
        {
          "output_type": "stream",
          "name": "stdout",
          "text": [
            "Epoch 1/50\n",
            "1/1 [==============================] - 0s 428ms/step - loss: 96.6106\n",
            "Epoch 2/50\n",
            "1/1 [==============================] - 0s 11ms/step - loss: 49.1069\n",
            "Epoch 3/50\n",
            "1/1 [==============================] - 0s 10ms/step - loss: 0.1705\n",
            "Epoch 4/50\n",
            "1/1 [==============================] - 0s 10ms/step - loss: 0.2470\n",
            "Epoch 5/50\n",
            "1/1 [==============================] - 0s 14ms/step - loss: 0.6149\n",
            "Epoch 6/50\n",
            "1/1 [==============================] - 0s 10ms/step - loss: 2.0303\n",
            "Epoch 7/50\n",
            "1/1 [==============================] - 0s 10ms/step - loss: 8.7667\n",
            "Epoch 8/50\n",
            "1/1 [==============================] - 0s 10ms/step - loss: 18.2265\n",
            "Epoch 9/50\n",
            "1/1 [==============================] - 0s 10ms/step - loss: 61.8605\n",
            "Epoch 10/50\n",
            "1/1 [==============================] - 0s 10ms/step - loss: 19.7132\n",
            "Epoch 11/50\n",
            "1/1 [==============================] - 0s 11ms/step - loss: 10.5666\n",
            "Epoch 12/50\n",
            "1/1 [==============================] - 0s 9ms/step - loss: 37.3715\n",
            "Epoch 13/50\n",
            "1/1 [==============================] - 0s 10ms/step - loss: 0.0114\n",
            "Epoch 14/50\n",
            "1/1 [==============================] - 0s 9ms/step - loss: 0.0114\n",
            "Epoch 15/50\n",
            "1/1 [==============================] - 0s 10ms/step - loss: 0.0126\n",
            "Epoch 16/50\n",
            "1/1 [==============================] - 0s 10ms/step - loss: 0.0174\n",
            "Epoch 17/50\n",
            "1/1 [==============================] - 0s 10ms/step - loss: 0.0338\n",
            "Epoch 18/50\n",
            "1/1 [==============================] - 0s 10ms/step - loss: 0.0895\n",
            "Epoch 19/50\n",
            "1/1 [==============================] - 0s 11ms/step - loss: 0.2571\n",
            "Epoch 20/50\n",
            "1/1 [==============================] - 0s 10ms/step - loss: 0.8546\n",
            "Epoch 21/50\n",
            "1/1 [==============================] - 0s 10ms/step - loss: 2.3081\n",
            "Epoch 22/50\n",
            "1/1 [==============================] - 0s 10ms/step - loss: 8.2836\n",
            "Epoch 23/50\n",
            "1/1 [==============================] - 0s 9ms/step - loss: 10.9264\n",
            "Epoch 24/50\n",
            "1/1 [==============================] - 0s 9ms/step - loss: 36.2068\n",
            "Epoch 25/50\n",
            "1/1 [==============================] - 0s 10ms/step - loss: 0.0749\n",
            "Epoch 26/50\n",
            "1/1 [==============================] - 0s 11ms/step - loss: 0.2115\n",
            "Epoch 27/50\n",
            "1/1 [==============================] - 0s 10ms/step - loss: 0.6634\n",
            "Epoch 28/50\n",
            "1/1 [==============================] - 0s 10ms/step - loss: 1.6778\n",
            "Epoch 29/50\n",
            "1/1 [==============================] - 0s 9ms/step - loss: 5.6080\n",
            "Epoch 30/50\n",
            "1/1 [==============================] - 0s 10ms/step - loss: 8.3425\n",
            "Epoch 31/50\n",
            "1/1 [==============================] - 0s 10ms/step - loss: 27.2429\n",
            "Epoch 32/50\n",
            "1/1 [==============================] - 0s 9ms/step - loss: 1.1692\n",
            "Epoch 33/50\n",
            "1/1 [==============================] - 0s 10ms/step - loss: 3.6873\n",
            "Epoch 34/50\n",
            "1/1 [==============================] - 0s 10ms/step - loss: 6.1455\n",
            "Epoch 35/50\n",
            "1/1 [==============================] - 0s 10ms/step - loss: 19.7782\n",
            "Epoch 36/50\n",
            "1/1 [==============================] - 0s 12ms/step - loss: 4.1999\n",
            "Epoch 37/50\n",
            "1/1 [==============================] - 0s 10ms/step - loss: 13.3035\n",
            "Epoch 38/50\n",
            "1/1 [==============================] - 0s 11ms/step - loss: 6.9816\n",
            "Epoch 39/50\n",
            "1/1 [==============================] - 0s 10ms/step - loss: 21.5786\n",
            "Epoch 40/50\n",
            "1/1 [==============================] - 0s 10ms/step - loss: 2.5251\n",
            "Epoch 41/50\n",
            "1/1 [==============================] - 0s 12ms/step - loss: 7.5941\n",
            "Epoch 42/50\n",
            "1/1 [==============================] - 0s 9ms/step - loss: 7.1800\n",
            "Epoch 43/50\n",
            "1/1 [==============================] - 0s 9ms/step - loss: 21.5280\n",
            "Epoch 44/50\n",
            "1/1 [==============================] - 0s 14ms/step - loss: 2.0553\n",
            "Epoch 45/50\n",
            "1/1 [==============================] - 0s 9ms/step - loss: 5.9098\n",
            "Epoch 46/50\n",
            "1/1 [==============================] - 0s 9ms/step - loss: 6.3173\n",
            "Epoch 47/50\n",
            "1/1 [==============================] - 0s 9ms/step - loss: 18.5204\n",
            "Epoch 48/50\n",
            "1/1 [==============================] - 0s 10ms/step - loss: 2.9962\n",
            "Epoch 49/50\n",
            "1/1 [==============================] - 0s 9ms/step - loss: 8.5179\n",
            "Epoch 50/50\n",
            "1/1 [==============================] - 0s 9ms/step - loss: 6.2568\n"
          ]
        },
        {
          "output_type": "execute_result",
          "data": {
            "text/plain": [
              "<keras.src.callbacks.History at 0x794c14b25ab0>"
            ]
          },
          "metadata": {},
          "execution_count": 8
        }
      ]
    },
    {
      "cell_type": "code",
      "source": [
        "print(model_3_layers.predict([10.0]))"
      ],
      "metadata": {
        "colab": {
          "base_uri": "https://localhost:8080/"
        },
        "id": "57oqqke6D6CZ",
        "outputId": "8dd7a7c9-5c99-49b0-d220-576ec093d7c1"
      },
      "execution_count": 9,
      "outputs": [
        {
          "output_type": "stream",
          "name": "stdout",
          "text": [
            "1/1 [==============================] - 0s 79ms/step\n",
            "[[11.171798]]\n"
          ]
        }
      ]
    }
  ]
}