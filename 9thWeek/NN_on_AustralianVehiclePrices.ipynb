{
  "nbformat": 4,
  "nbformat_minor": 0,
  "metadata": {
    "colab": {
      "provenance": [],
      "authorship_tag": "ABX9TyP6L0EGsd8s5IxQCy4JV8NX",
      "include_colab_link": true
    },
    "kernelspec": {
      "name": "python3",
      "display_name": "Python 3"
    },
    "language_info": {
      "name": "python"
    }
  },
  "cells": [
    {
      "cell_type": "markdown",
      "metadata": {
        "id": "view-in-github",
        "colab_type": "text"
      },
      "source": [
        "<a href=\"https://colab.research.google.com/github/Arfara/MachineLearningClass/blob/main/9thWeek/NN_on_AustralianVehiclePrices.ipynb\" target=\"_parent\"><img src=\"https://colab.research.google.com/assets/colab-badge.svg\" alt=\"Open In Colab\"/></a>"
      ]
    },
    {
      "cell_type": "code",
      "execution_count": null,
      "metadata": {
        "id": "Hevfdt-_HN-C"
      },
      "outputs": [],
      "source": [
        "#Nama   : Arfara Yema Samgusdian\n",
        "#NIM    : 1103202004\n",
        "#Kelas  : TK-44-G4"
      ]
    },
    {
      "cell_type": "code",
      "source": [
        "from google.colab import drive\n",
        "drive.mount('/content/drive')"
      ],
      "metadata": {
        "colab": {
          "base_uri": "https://localhost:8080/"
        },
        "id": "7Tp6YCPFHQYi",
        "outputId": "8dbdbbb9-a144-4392-b647-ce364554ddf4"
      },
      "execution_count": 1,
      "outputs": [
        {
          "output_type": "stream",
          "name": "stdout",
          "text": [
            "Mounted at /content/drive\n"
          ]
        }
      ]
    },
    {
      "cell_type": "code",
      "source": [
        "import pandas as pd\n",
        "from sklearn.model_selection import train_test_split\n",
        "from sklearn.preprocessing import StandardScaler, LabelEncoder\n",
        "import tensorflow as tf\n",
        "from tensorflow.keras import layers, models"
      ],
      "metadata": {
        "id": "H2bhaL8rHf0q"
      },
      "execution_count": 2,
      "outputs": []
    },
    {
      "cell_type": "code",
      "source": [
        "# Define the path to your dataset in Google Drive\n",
        "dataset_path = '/content/drive/MyDrive/Dataset/Australian Vehicle Prices.csv'\n",
        "\n",
        "# Use Pandas to read the CSV file\n",
        "df = pd.read_csv(dataset_path)"
      ],
      "metadata": {
        "id": "0eNoyge5Hj3Q"
      },
      "execution_count": 3,
      "outputs": []
    },
    {
      "cell_type": "code",
      "source": [
        "df.info()"
      ],
      "metadata": {
        "colab": {
          "base_uri": "https://localhost:8080/"
        },
        "id": "UumGPwYxInlZ",
        "outputId": "30e539db-79bd-4647-df6e-06155332b000"
      },
      "execution_count": 14,
      "outputs": [
        {
          "output_type": "stream",
          "name": "stdout",
          "text": [
            "<class 'pandas.core.frame.DataFrame'>\n",
            "RangeIndex: 16734 entries, 0 to 16733\n",
            "Data columns (total 19 columns):\n",
            " #   Column             Non-Null Count  Dtype  \n",
            "---  ------             --------------  -----  \n",
            " 0   Brand              16733 non-null  object \n",
            " 1   Year               16733 non-null  float64\n",
            " 2   Model              16733 non-null  object \n",
            " 3   Car/Suv            16706 non-null  object \n",
            " 4   Title              16733 non-null  object \n",
            " 5   UsedOrNew          16733 non-null  object \n",
            " 6   Transmission       16733 non-null  object \n",
            " 7   Engine             16733 non-null  object \n",
            " 8   DriveType          16733 non-null  object \n",
            " 9   FuelType           16733 non-null  object \n",
            " 10  FuelConsumption    16733 non-null  object \n",
            " 11  Kilometres         16733 non-null  object \n",
            " 12  ColourExtInt       16733 non-null  object \n",
            " 13  Location           16284 non-null  object \n",
            " 14  CylindersinEngine  16733 non-null  object \n",
            " 15  BodyType           16452 non-null  object \n",
            " 16  Doors              15130 non-null  object \n",
            " 17  Seats              15029 non-null  object \n",
            " 18  Price              16731 non-null  object \n",
            "dtypes: float64(1), object(18)\n",
            "memory usage: 2.4+ MB\n"
          ]
        }
      ]
    },
    {
      "cell_type": "code",
      "source": [
        "# Menghapus baris dengan nilai 'POA' pada kolom 'price'\n",
        "df = df[df['Price'] != 'POA'].copy()\n",
        "\n",
        "# Mengonversi 'price' ke tipe data float\n",
        "df['Price'] = df['Price'].astype(float)\n"
      ],
      "metadata": {
        "id": "ge1zpIyaLKjK"
      },
      "execution_count": 18,
      "outputs": []
    },
    {
      "cell_type": "code",
      "source": [
        "# Mengganti nilai 'POA' dengan NaN (atau nilai lain yang sesuai)\n",
        "df['Price'] = pd.to_numeric(df['Price'], errors='coerce')"
      ],
      "metadata": {
        "id": "RqIESldOLQNW"
      },
      "execution_count": 20,
      "outputs": []
    },
    {
      "cell_type": "code",
      "source": [
        "# Memilih kolom-kolom yang ingin digunakan sebagai fitur\n",
        "features = df[['Brand', 'Year', 'Model', 'Car/Suv', 'Title', 'UsedOrNew', 'Transmission',\n",
        "                 'Engine', 'DriveType', 'FuelType', 'FuelConsumption', 'Kilometres',\n",
        "                 'ColourExtInt', 'Location', 'CylindersinEngine',\n",
        "                 'BodyType', 'Doors', 'Seats']]\n",
        "\n",
        "# Kolom yang akan dijadikan target (price)\n",
        "target = df['Price']\n",
        "\n",
        "# Mengonversi data kategorikal menjadi bentuk numerik\n",
        "label_encoders = {}\n",
        "for column in features.columns:\n",
        "    le = LabelEncoder()\n",
        "    features[column] = le.fit_transform(features[column])\n",
        "    label_encoders[column] = le\n",
        "\n",
        "# Memisahkan data menjadi data latihan dan data uji\n",
        "X_train, X_test, y_train, y_test = train_test_split(features, target, test_size=0.2, random_state=42)\n",
        "\n",
        "# Normalisasi fitur menggunakan StandardScaler\n",
        "scaler = StandardScaler()\n",
        "X_train_scaled = scaler.fit_transform(X_train)\n",
        "X_test_scaled = scaler.transform(X_test)\n",
        "\n",
        "# Membangun model neural network\n",
        "model = models.Sequential([\n",
        "    layers.Dense(128, activation='relu', input_shape=(X_train_scaled.shape[1],)),\n",
        "    layers.Dense(64, activation='relu'),\n",
        "    layers.Dense(1)  # Layer output tanpa aktivasi untuk regresi\n",
        "])\n",
        "\n",
        "# Kompilasi model\n",
        "model.compile(optimizer='adam', loss='mean_squared_error')\n",
        "\n",
        "# Mengonversi target menjadi tensor\n",
        "y_train_tensor = tf.convert_to_tensor(y_train.values, dtype=tf.float32)\n",
        "y_test_tensor = tf.convert_to_tensor(y_test.values, dtype=tf.float32)\n",
        "\n",
        "# Melatih model\n",
        "model.fit(X_train_scaled, y_train_tensor, epochs=10, batch_size=32, validation_data=(X_test_scaled, y_test_tensor))\n",
        "\n",
        "# Evaluasi model\n",
        "loss = model.evaluate(X_test_scaled, y_test_tensor)\n",
        "print(f'Mean Squared Error on Test Data: {loss}')\n",
        "\n",
        "# Melakukan prediksi\n",
        "predictions = model.predict(X_test_scaled)\n",
        "\n",
        "# Output prediksi dan nilai sebenarnya\n",
        "df_predictions = pd.DataFrame({'Actual Price': y_test_tensor.numpy(), 'Predicted Price': predictions.flatten()})\n",
        "print(df_predictions.head())"
      ],
      "metadata": {
        "colab": {
          "base_uri": "https://localhost:8080/"
        },
        "id": "T6SaA9J_JIsy",
        "outputId": "268c98e9-44f4-4ccd-b1ec-9dd1e477f8f6"
      },
      "execution_count": 21,
      "outputs": [
        {
          "output_type": "stream",
          "name": "stderr",
          "text": [
            "<ipython-input-21-f0566bd739b4>:14: SettingWithCopyWarning: \n",
            "A value is trying to be set on a copy of a slice from a DataFrame.\n",
            "Try using .loc[row_indexer,col_indexer] = value instead\n",
            "\n",
            "See the caveats in the documentation: https://pandas.pydata.org/pandas-docs/stable/user_guide/indexing.html#returning-a-view-versus-a-copy\n",
            "  features[column] = le.fit_transform(features[column])\n",
            "<ipython-input-21-f0566bd739b4>:14: SettingWithCopyWarning: \n",
            "A value is trying to be set on a copy of a slice from a DataFrame.\n",
            "Try using .loc[row_indexer,col_indexer] = value instead\n",
            "\n",
            "See the caveats in the documentation: https://pandas.pydata.org/pandas-docs/stable/user_guide/indexing.html#returning-a-view-versus-a-copy\n",
            "  features[column] = le.fit_transform(features[column])\n",
            "<ipython-input-21-f0566bd739b4>:14: SettingWithCopyWarning: \n",
            "A value is trying to be set on a copy of a slice from a DataFrame.\n",
            "Try using .loc[row_indexer,col_indexer] = value instead\n",
            "\n",
            "See the caveats in the documentation: https://pandas.pydata.org/pandas-docs/stable/user_guide/indexing.html#returning-a-view-versus-a-copy\n",
            "  features[column] = le.fit_transform(features[column])\n",
            "<ipython-input-21-f0566bd739b4>:14: SettingWithCopyWarning: \n",
            "A value is trying to be set on a copy of a slice from a DataFrame.\n",
            "Try using .loc[row_indexer,col_indexer] = value instead\n",
            "\n",
            "See the caveats in the documentation: https://pandas.pydata.org/pandas-docs/stable/user_guide/indexing.html#returning-a-view-versus-a-copy\n",
            "  features[column] = le.fit_transform(features[column])\n",
            "<ipython-input-21-f0566bd739b4>:14: SettingWithCopyWarning: \n",
            "A value is trying to be set on a copy of a slice from a DataFrame.\n",
            "Try using .loc[row_indexer,col_indexer] = value instead\n",
            "\n",
            "See the caveats in the documentation: https://pandas.pydata.org/pandas-docs/stable/user_guide/indexing.html#returning-a-view-versus-a-copy\n",
            "  features[column] = le.fit_transform(features[column])\n",
            "<ipython-input-21-f0566bd739b4>:14: SettingWithCopyWarning: \n",
            "A value is trying to be set on a copy of a slice from a DataFrame.\n",
            "Try using .loc[row_indexer,col_indexer] = value instead\n",
            "\n",
            "See the caveats in the documentation: https://pandas.pydata.org/pandas-docs/stable/user_guide/indexing.html#returning-a-view-versus-a-copy\n",
            "  features[column] = le.fit_transform(features[column])\n",
            "<ipython-input-21-f0566bd739b4>:14: SettingWithCopyWarning: \n",
            "A value is trying to be set on a copy of a slice from a DataFrame.\n",
            "Try using .loc[row_indexer,col_indexer] = value instead\n",
            "\n",
            "See the caveats in the documentation: https://pandas.pydata.org/pandas-docs/stable/user_guide/indexing.html#returning-a-view-versus-a-copy\n",
            "  features[column] = le.fit_transform(features[column])\n",
            "<ipython-input-21-f0566bd739b4>:14: SettingWithCopyWarning: \n",
            "A value is trying to be set on a copy of a slice from a DataFrame.\n",
            "Try using .loc[row_indexer,col_indexer] = value instead\n",
            "\n",
            "See the caveats in the documentation: https://pandas.pydata.org/pandas-docs/stable/user_guide/indexing.html#returning-a-view-versus-a-copy\n",
            "  features[column] = le.fit_transform(features[column])\n",
            "<ipython-input-21-f0566bd739b4>:14: SettingWithCopyWarning: \n",
            "A value is trying to be set on a copy of a slice from a DataFrame.\n",
            "Try using .loc[row_indexer,col_indexer] = value instead\n",
            "\n",
            "See the caveats in the documentation: https://pandas.pydata.org/pandas-docs/stable/user_guide/indexing.html#returning-a-view-versus-a-copy\n",
            "  features[column] = le.fit_transform(features[column])\n",
            "<ipython-input-21-f0566bd739b4>:14: SettingWithCopyWarning: \n",
            "A value is trying to be set on a copy of a slice from a DataFrame.\n",
            "Try using .loc[row_indexer,col_indexer] = value instead\n",
            "\n",
            "See the caveats in the documentation: https://pandas.pydata.org/pandas-docs/stable/user_guide/indexing.html#returning-a-view-versus-a-copy\n",
            "  features[column] = le.fit_transform(features[column])\n",
            "<ipython-input-21-f0566bd739b4>:14: SettingWithCopyWarning: \n",
            "A value is trying to be set on a copy of a slice from a DataFrame.\n",
            "Try using .loc[row_indexer,col_indexer] = value instead\n",
            "\n",
            "See the caveats in the documentation: https://pandas.pydata.org/pandas-docs/stable/user_guide/indexing.html#returning-a-view-versus-a-copy\n",
            "  features[column] = le.fit_transform(features[column])\n",
            "<ipython-input-21-f0566bd739b4>:14: SettingWithCopyWarning: \n",
            "A value is trying to be set on a copy of a slice from a DataFrame.\n",
            "Try using .loc[row_indexer,col_indexer] = value instead\n",
            "\n",
            "See the caveats in the documentation: https://pandas.pydata.org/pandas-docs/stable/user_guide/indexing.html#returning-a-view-versus-a-copy\n",
            "  features[column] = le.fit_transform(features[column])\n",
            "<ipython-input-21-f0566bd739b4>:14: SettingWithCopyWarning: \n",
            "A value is trying to be set on a copy of a slice from a DataFrame.\n",
            "Try using .loc[row_indexer,col_indexer] = value instead\n",
            "\n",
            "See the caveats in the documentation: https://pandas.pydata.org/pandas-docs/stable/user_guide/indexing.html#returning-a-view-versus-a-copy\n",
            "  features[column] = le.fit_transform(features[column])\n",
            "<ipython-input-21-f0566bd739b4>:14: SettingWithCopyWarning: \n",
            "A value is trying to be set on a copy of a slice from a DataFrame.\n",
            "Try using .loc[row_indexer,col_indexer] = value instead\n",
            "\n",
            "See the caveats in the documentation: https://pandas.pydata.org/pandas-docs/stable/user_guide/indexing.html#returning-a-view-versus-a-copy\n",
            "  features[column] = le.fit_transform(features[column])\n",
            "<ipython-input-21-f0566bd739b4>:14: SettingWithCopyWarning: \n",
            "A value is trying to be set on a copy of a slice from a DataFrame.\n",
            "Try using .loc[row_indexer,col_indexer] = value instead\n",
            "\n",
            "See the caveats in the documentation: https://pandas.pydata.org/pandas-docs/stable/user_guide/indexing.html#returning-a-view-versus-a-copy\n",
            "  features[column] = le.fit_transform(features[column])\n",
            "<ipython-input-21-f0566bd739b4>:14: SettingWithCopyWarning: \n",
            "A value is trying to be set on a copy of a slice from a DataFrame.\n",
            "Try using .loc[row_indexer,col_indexer] = value instead\n",
            "\n",
            "See the caveats in the documentation: https://pandas.pydata.org/pandas-docs/stable/user_guide/indexing.html#returning-a-view-versus-a-copy\n",
            "  features[column] = le.fit_transform(features[column])\n",
            "<ipython-input-21-f0566bd739b4>:14: SettingWithCopyWarning: \n",
            "A value is trying to be set on a copy of a slice from a DataFrame.\n",
            "Try using .loc[row_indexer,col_indexer] = value instead\n",
            "\n",
            "See the caveats in the documentation: https://pandas.pydata.org/pandas-docs/stable/user_guide/indexing.html#returning-a-view-versus-a-copy\n",
            "  features[column] = le.fit_transform(features[column])\n",
            "<ipython-input-21-f0566bd739b4>:14: SettingWithCopyWarning: \n",
            "A value is trying to be set on a copy of a slice from a DataFrame.\n",
            "Try using .loc[row_indexer,col_indexer] = value instead\n",
            "\n",
            "See the caveats in the documentation: https://pandas.pydata.org/pandas-docs/stable/user_guide/indexing.html#returning-a-view-versus-a-copy\n",
            "  features[column] = le.fit_transform(features[column])\n"
          ]
        },
        {
          "output_type": "stream",
          "name": "stdout",
          "text": [
            "Epoch 1/10\n",
            "418/418 [==============================] - 2s 3ms/step - loss: nan - val_loss: nan\n",
            "Epoch 2/10\n",
            "418/418 [==============================] - 1s 2ms/step - loss: nan - val_loss: nan\n",
            "Epoch 3/10\n",
            "418/418 [==============================] - 1s 3ms/step - loss: nan - val_loss: nan\n",
            "Epoch 4/10\n",
            "418/418 [==============================] - 4s 10ms/step - loss: nan - val_loss: nan\n",
            "Epoch 5/10\n",
            "418/418 [==============================] - 4s 9ms/step - loss: nan - val_loss: nan\n",
            "Epoch 6/10\n",
            "418/418 [==============================] - 1s 3ms/step - loss: nan - val_loss: nan\n",
            "Epoch 7/10\n",
            "418/418 [==============================] - 1s 2ms/step - loss: nan - val_loss: nan\n",
            "Epoch 8/10\n",
            "418/418 [==============================] - 1s 2ms/step - loss: nan - val_loss: nan\n",
            "Epoch 9/10\n",
            "418/418 [==============================] - 1s 2ms/step - loss: nan - val_loss: nan\n",
            "Epoch 10/10\n",
            "418/418 [==============================] - 1s 3ms/step - loss: nan - val_loss: nan\n",
            "105/105 [==============================] - 0s 2ms/step - loss: nan\n",
            "Mean Squared Error on Test Data: nan\n",
            "105/105 [==============================] - 0s 2ms/step\n",
            "   Actual Price  Predicted Price\n",
            "0        5990.0              NaN\n",
            "1      110888.0              NaN\n",
            "2       10999.0              NaN\n",
            "3       44870.0              NaN\n",
            "4       10490.0              NaN\n"
          ]
        }
      ]
    }
  ]
}